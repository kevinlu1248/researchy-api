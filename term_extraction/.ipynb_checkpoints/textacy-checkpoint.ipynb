{
 "cells": [
  {
   "cell_type": "code",
   "execution_count": 42,
   "metadata": {},
   "outputs": [
    {
     "name": "stdout",
     "output_type": "stream",
     "text": [
      "An association between the development of cancer and inflammation has long-been appreciated [4,5]. The inflammatory response orchestrates host defenses to microbial infection and mediates tissue repair and regeneration, which may occur due to infectious or non-infectious tissue damage. Epidemiological evidence points to a connection between inflammation and a predisposition for the development of cancer, i.e. long-term inflammation leads to the development of dysplasia. Epidemiologic studies estimate that nearly 15 percent of the worldwide cancer incidence is associated with microbial infection [6]. Chronic infection in immunocompetent hosts such as human papilloma virus or hepatitis B and C virus infection leads to cervical and hepatocellular carcinoma, respectively. In other cases, microbes may cause cancer due to opportunistic infection such as in Kaposi’s sarcoma (a result of human herpes virus (HHV)-8 infection) or inappropriate immune responses to microbes in certain individuals, which may occur in gastric cancer secondary to Helicobacter pylori colonization or colon cancer because of long-standing inflammatory bowel disease precipitated by the intestinal microflora [4,5]. In many other cases, conditions associated with chronic irritation and subsequent inflammation predispose to cancer, such as the long-term exposure to cigarette smoke, asbestos, and silica [4,5].\n",
      "Observing signs of inflammation, such as leukocyte infiltration, at tumors infected with microbes or sites of chronic irritation is expected. However, as first observed by Virchow in the middle of the 19th century, many tumors for which infection or irritation are not necessarily a predisposing factor, such as mammory adenocarcinoma, show a “lymphoreticular infiltrate.” Many tumors of this type contain activated fibroblasts and macrophages, in addition to a gene expression profile with an inflammatory signature. Quantitative aspects of wound repair or inflammatory gene expression often correlate negatively with cancer stage and prognosis [7-9]. Further evidence for the role of inflammation has come from the use of non-steroidal anti-inflammatory drugs (NSAIDs) in the prevention of spontaneous tumor formation in people with familial adenomatous polyposis (FAP) [10]. Thus, cancer and inflammation are related by epidemiology, histopathology, inflammatory profiles, and the efficacy of anti-inflammatory drugs in prophylaxis. These observations have provided impetus for investigation and hypothesis on the mechanisms and semantics of the relationship between cancer and inflammation.\n",
      "There is evidence to suggest the inflammatory and immune systems may inhibit the development of cancer. This may occur by two cancer-associated recognition events. In tumor immunosurveillance, the host may have a dedicated mechanism to perceive and eliminate transformed cells. Adaptive immune recognition of tumor-associated and specific antigens also may be an important means by which the immune system controls the development of cancer [11]. Such topics will not be covered here. However, it seems the net effect of the inflammatory system is to positively affect tumor development. The relationship between cancer and inflammation is not simple and cannot be reduced to one grand theory. Previous reviews have focused on various aspects of the relationship between cancer and inflammation, such as the role of various inflammatory cells [4,12,13], mediators [4,14-16], or signaling pathways [17] in cancer. The focus of this essay will be to discuss the relationship between cancer and inflammation along the organizing principle that the inflammatory response maintains physiological processes such as tissue homeostasis and repair after injury and that in this role, inflammation may be an ancillary, or perhaps inseparable, aspect of tumor development\n"
     ]
    }
   ],
   "source": [
    "import pickle\n",
    "import pandas as pd\n",
    "import spacy\n",
    "import textacy\n",
    "PATH_TO_GENERAL_DOMAIN = \"../data/wiki_testing.pkl\"\n",
    "PATH_TO_TECHNICAL_DOMAIN = \"../data/pmc_testing.pkl\"\n",
    "wiki = pd.read_pickle(PATH_TO_GENERAL_DOMAIN)\n",
    "pmc = pd.read_pickle(PATH_TO_TECHNICAL_DOMAIN)\n",
    "nlp = spacy.load('en_core_web_sm')\n",
    "text = pmc[1].replace(\"\\n\", \"\")\n",
    "# text = \"\"\"An association between the development of cancer and inflammation has long-been appreciated [4,5]. The inflammatory response orchestrates host defenses to microbial infection and mediates tissue repair and regeneration, which may occur due to infectious or non-infectious tissue damage. Epidemiological evidence points to a connection between inflammation and a predisposition for the development of cancer, i.e. long-term inflammation leads to the development of dysplasia. Epidemiologic studies estimate that nearly 15 percent of the worldwide cancer incidence is associated with microbial infection [6]. Chronic infection in immunocompetent hosts such as human papilloma virus or hepatitis B and C virus infection leads to cervical and hepatocellular carcinoma, respectively. In other cases, microbes may cause cancer due to opportunistic infection such as in Kaposi’s sarcoma (a result of human herpes virus (HHV)-8 infection) or inappropriate immune responses to microbes in certain individuals, which may occur in gastric cancer secondary to Helicobacter pylori colonization or colon cancer because of long-standing inflammatory bowel disease precipitated by the intestinal microflora [4,5]. In many other cases, conditions associated with chronic irritation and subsequent inflammation predispose to cancer, such as the long-term exposure to cigarette smoke, asbestos, and silica [4,5].\n",
    "# Observing signs of inflammation, such as leukocyte infiltration, at tumors infected with microbes or sites of chronic irritation is expected. However, as first observed by Virchow in the middle of the 19th century, many tumors for which infection or irritation are not necessarily a predisposing factor, such as mammory adenocarcinoma, show a “lymphoreticular infiltrate.” Many tumors of this type contain activated fibroblasts and macrophages, in addition to a gene expression profile with an inflammatory signature. Quantitative aspects of wound repair or inflammatory gene expression often correlate negatively with cancer stage and prognosis [7-9]. Further evidence for the role of inflammation has come from the use of non-steroidal anti-inflammatory drugs (NSAIDs) in the prevention of spontaneous tumor formation in people with familial adenomatous polyposis (FAP) [10]. Thus, cancer and inflammation are related by epidemiology, histopathology, inflammatory profiles, and the efficacy of anti-inflammatory drugs in prophylaxis. These observations have provided impetus for investigation and hypothesis on the mechanisms and semantics of the relationship between cancer and inflammation.\n",
    "# There is evidence to suggest the inflammatory and immune systems may inhibit the development of cancer. This may occur by two cancer-associated recognition events. In tumor immunosurveillance, the host may have a dedicated mechanism to perceive and eliminate transformed cells. Adaptive immune recognition of tumor-associated and specific antigens also may be an important means by which the immune system controls the development of cancer [11]. Such topics will not be covered here. However, it seems the net effect of the inflammatory system is to positively affect tumor development. The relationship between cancer and inflammation is not simple and cannot be reduced to one grand theory. Previous reviews have focused on various aspects of the relationship between cancer and inflammation, such as the role of various inflammatory cells [4,12,13], mediators [4,14-16], or signaling pathways [17] in cancer. The focus of this essay will be to discuss the relationship between cancer and inflammation along the organizing principle that the inflammatory response maintains physiological processes such as tissue homeostasis and repair after injury and that in this role, inflammation may be an ancillary, or perhaps inseparable, aspect of tumor development\"\"\"\n",
    "doc = nlp(text)\n",
    "print(doc)"
   ]
  },
  {
   "cell_type": "code",
   "execution_count": 44,
   "metadata": {},
   "outputs": [
    {
     "name": "stdout",
     "output_type": "stream",
     "text": [
      "(response, orchestrates, host defenses)\n",
      "(microbes, may cause, cancer)\n",
      "(aspects, correlate, 9)\n",
      "(observations, have provided, impetus)\n",
      "(systems, may inhibit, development)\n",
      "(system, controls, development)\n",
      "(response, maintains, processes)\n"
     ]
    }
   ],
   "source": [
    "statements = textacy.extract.subject_verb_object_triples(doc)\n",
    "for s in statements:\n",
    "    print(s)"
   ]
  },
  {
   "cell_type": "code",
   "execution_count": 33,
   "metadata": {},
   "outputs": [
    {
     "name": "stdout",
     "output_type": "stream",
     "text": [
      "[('immunogenic cell death', 0.2834869732460801), ('immune response', 0.05380123178752348), ('melanoma', 0.04606309472886668), ('type', 0.028776436917602), ('danger signal', 0.02690532219444345), ('IFN', 0.02622097905703267), ('molecular pattern', 0.019771940809196316), ('cancer cell', 0.019338526548215086), ('receptor', 0.018224238531545058), ('dendritic cell', 0.016989989640311388)]\n"
     ]
    }
   ],
   "source": [
    "from textacy import ke\n",
    "print(ke.sgrank(doc))"
   ]
  },
  {
   "cell_type": "code",
   "execution_count": null,
   "metadata": {},
   "outputs": [],
   "source": []
  }
 ],
 "metadata": {
  "kernelspec": {
   "display_name": "Python 3.6 NLP",
   "language": "python",
   "name": "kevin"
  },
  "language_info": {
   "codemirror_mode": {
    "name": "ipython",
    "version": 3
   },
   "file_extension": ".py",
   "mimetype": "text/x-python",
   "name": "python",
   "nbconvert_exporter": "python",
   "pygments_lexer": "ipython3",
   "version": "3.7.7"
  }
 },
 "nbformat": 4,
 "nbformat_minor": 4
}
