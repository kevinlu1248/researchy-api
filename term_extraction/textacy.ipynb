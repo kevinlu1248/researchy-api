{
 "cells": [
  {
   "cell_type": "code",
   "execution_count": 45,
   "metadata": {},
   "outputs": [
    {
     "name": "stdout",
     "output_type": "stream",
     "text": [
      "Elucidating the factors that affect the spatiotemporal variations of species assemblies has long been a central concern of ecology. Biotic interactions, as well as historical and phylogenetic factors, play a role in shaping biodiversity gradients throughout species turnover because of resource competition and niche segregation and/or reproductive isolation after secondary contact [The fitness cost of interspecific sexual interactions has been observed in many plant and animal taxa and is generally described as reproductive interference [It is also difficult to identify the mechanisms shaping species assemblies, since the difference in the resource competition between species as well as reproductive interference should simultaneously affect the reproductive success of each species and the consequence of inter-specific interactions. However, we can infer the relative importance of reproductive interference and resource competition. Importantly, if resource competition predominant, individual fitness of given two species should depend on total density rather than frequency of the two species [In Japan, three morphologically distinct species ofHere we aim to demonstrate the effect of reproductive interaction between the M-species and the two other species ofPotentially, in nature, not only morph-specific reproductive interference but also morph-specific ecological traits such as competition ability for resources and pollinators and habitat preferences can generate the spatial variations of color morph frequency. For example, inMicroevolutionary investigations of intraspecific variation in floral traits are important for identifying the role of adaptive evolution in floral diversification. We focused on the effect of interspecific reproductive interaction among congeneric species on the distribution of color morphs of M-species ofThough we did not qualitatively investigate the pollinator community ofReproductive interference in plants can be caused by pollen transfer between different congeneric species by pollinators [For flowering plants, the negative effects of reproductive interference among species that share pollinators may potentially influence community assembly [Morph frequency variation that we observed in the present study can be potentially explained by differential habitat preference, such as differential water use, and differential competition ability between color morphs. However, exclusive distribution between the white morph of the M-species and the other species was also observed in the census along the water’s edge, where soil condition is expected to be relatively constant, and no significant effect of the distance from the water’s edge on morph frequency was found in the natural populations. These results imply no potential difference in habitat preference between morphs. Moreover, we did not find any significant evidence supporting the contribution of differences in competition ability on reproductive success. Spatial pattern of flower color polymorphism in the natural habitats can be mostly explained by color-dependent reproductive interference rather than difference in competition ability and/or habitat preference, though we do not have any direct evidence at this time.In the present study, we found smooth clinal variation in morph frequency in along the distance from the water’s edge, where L-species is abundant. Theoretically, the combination of divergent selection along the environmental continuum and balancing selection acting on morphs is suggested to result in spatial cline in allele or morph frequency [Our results cannot explain the inter-population variation in the clinal pattern of morph frequency in the M-species along the relative abundance of other species. This variation may be because of the difference in the period of co-habitation of the three species; the morph frequency cline in some populations may have not reached an evolutionary equilibrium state [\n"
     ]
    }
   ],
   "source": [
    "import pickle\n",
    "import pandas as pd\n",
    "import spacy\n",
    "import textacy\n",
    "PATH_TO_GENERAL_DOMAIN = \"../data/wiki_testing.pkl\"\n",
    "PATH_TO_TECHNICAL_DOMAIN = \"../data/pmc_testing.pkl\"\n",
    "wiki = pd.read_pickle(PATH_TO_GENERAL_DOMAIN)\n",
    "pmc = pd.read_pickle(PATH_TO_TECHNICAL_DOMAIN)\n",
    "nlp = spacy.load('en_core_web_sm')\n",
    "text = pmc[1].replace(\"\\n\", \"\")\n",
    "# text = \"\"\"An association between the development of cancer and inflammation has long-been appreciated [4,5]. The inflammatory response orchestrates host defenses to microbial infection and mediates tissue repair and regeneration, which may occur due to infectious or non-infectious tissue damage. Epidemiological evidence points to a connection between inflammation and a predisposition for the development of cancer, i.e. long-term inflammation leads to the development of dysplasia. Epidemiologic studies estimate that nearly 15 percent of the worldwide cancer incidence is associated with microbial infection [6]. Chronic infection in immunocompetent hosts such as human papilloma virus or hepatitis B and C virus infection leads to cervical and hepatocellular carcinoma, respectively. In other cases, microbes may cause cancer due to opportunistic infection such as in Kaposi’s sarcoma (a result of human herpes virus (HHV)-8 infection) or inappropriate immune responses to microbes in certain individuals, which may occur in gastric cancer secondary to Helicobacter pylori colonization or colon cancer because of long-standing inflammatory bowel disease precipitated by the intestinal microflora [4,5]. In many other cases, conditions associated with chronic irritation and subsequent inflammation predispose to cancer, such as the long-term exposure to cigarette smoke, asbestos, and silica [4,5].\n",
    "# Observing signs of inflammation, such as leukocyte infiltration, at tumors infected with microbes or sites of chronic irritation is expected. However, as first observed by Virchow in the middle of the 19th century, many tumors for which infection or irritation are not necessarily a predisposing factor, such as mammory adenocarcinoma, show a “lymphoreticular infiltrate.” Many tumors of this type contain activated fibroblasts and macrophages, in addition to a gene expression profile with an inflammatory signature. Quantitative aspects of wound repair or inflammatory gene expression often correlate negatively with cancer stage and prognosis [7-9]. Further evidence for the role of inflammation has come from the use of non-steroidal anti-inflammatory drugs (NSAIDs) in the prevention of spontaneous tumor formation in people with familial adenomatous polyposis (FAP) [10]. Thus, cancer and inflammation are related by epidemiology, histopathology, inflammatory profiles, and the efficacy of anti-inflammatory drugs in prophylaxis. These observations have provided impetus for investigation and hypothesis on the mechanisms and semantics of the relationship between cancer and inflammation.\n",
    "# There is evidence to suggest the inflammatory and immune systems may inhibit the development of cancer. This may occur by two cancer-associated recognition events. In tumor immunosurveillance, the host may have a dedicated mechanism to perceive and eliminate transformed cells. Adaptive immune recognition of tumor-associated and specific antigens also may be an important means by which the immune system controls the development of cancer [11]. Such topics will not be covered here. However, it seems the net effect of the inflammatory system is to positively affect tumor development. The relationship between cancer and inflammation is not simple and cannot be reduced to one grand theory. Previous reviews have focused on various aspects of the relationship between cancer and inflammation, such as the role of various inflammatory cells [4,12,13], mediators [4,14-16], or signaling pathways [17] in cancer. The focus of this essay will be to discuss the relationship between cancer and inflammation along the organizing principle that the inflammatory response maintains physiological processes such as tissue homeostasis and repair after injury and that in this role, inflammation may be an ancillary, or perhaps inseparable, aspect of tumor development\"\"\"\n",
    "doc = nlp(text)\n",
    "print(doc)"
   ]
  },
  {
   "cell_type": "code",
   "execution_count": 46,
   "metadata": {},
   "outputs": [
    {
     "name": "stdout",
     "output_type": "stream",
     "text": [
      "(that, affect, variations)\n",
      "(interactions, play, role)\n",
      "(factors, play, role)\n",
      "(difference, affect, success)\n",
      "(difference, affect, consequence)\n",
      "(we, can infer, importance)\n",
      "(we, aim, to demonstrate)\n",
      "(interference, can generate, variations)\n",
      "(traits, can generate, variations)\n",
      "(we, investigate, pollinator community)\n",
      "(effects, influence, community assembly)\n",
      "(pollinators, influence, community assembly)\n",
      "(soil condition, is expected, be)\n",
      "(results, imply, difference)\n",
      "(we, did not find, evidence)\n",
      "(pattern, explained, habitat)\n",
      "(we, found, variation)\n",
      "(combination, is suggested, to result)\n",
      "(balancing, is suggested, to result)\n",
      "(results, cannot explain, population variation)\n",
      "(frequency cline, may have not reached, equilibrium state)\n"
     ]
    }
   ],
   "source": [
    "statements = textacy.extract.subject_verb_object_triples(doc)\n",
    "for s in statements:\n",
    "    print(s)"
   ]
  },
  {
   "cell_type": "code",
   "execution_count": 47,
   "metadata": {},
   "outputs": [
    {
     "name": "stdout",
     "output_type": "stream",
     "text": [
      "[('reproductive interference', 0.1489003741897803), ('resource competition', 0.11407073400224466), ('specie assembly', 0.09905063614361974), ('reproductive success', 0.04252500150217661), ('habitat preference', 0.04158679766094718), ('competition ability', 0.041410181947889174), ('color morph', 0.041221501628097415), ('reproductive interaction', 0.038233828205610665), ('morph frequency', 0.0373523279419886), ('variation', 0.024624316560563412)]\n"
     ]
    }
   ],
   "source": [
    "from textacy import ke\n",
    "print(ke.sgrank(doc))"
   ]
  },
  {
   "cell_type": "code",
   "execution_count": null,
   "metadata": {},
   "outputs": [],
   "source": []
  }
 ],
 "metadata": {
  "kernelspec": {
   "display_name": "Python 3.6 NLP",
   "language": "python",
   "name": "kevin"
  },
  "language_info": {
   "codemirror_mode": {
    "name": "ipython",
    "version": 3
   },
   "file_extension": ".py",
   "mimetype": "text/x-python",
   "name": "python",
   "nbconvert_exporter": "python",
   "pygments_lexer": "ipython3",
   "version": "3.7.7"
  }
 },
 "nbformat": 4,
 "nbformat_minor": 4
}
